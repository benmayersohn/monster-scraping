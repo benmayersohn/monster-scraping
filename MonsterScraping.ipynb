{
 "cells": [
  {
   "cell_type": "markdown",
   "metadata": {},
   "source": [
    "# Web Scraping Monster.com for In-Demand Data Science Skills\n",
    "\n",
    "I came across [this nice blog post](https://jessesw.com/Data-Science-Skills/) by Jesse Steinweg-Woods about how to scrape [Indeed.com](https://www.indeed.com) for key skills that employers are looking for in data scientists. Jesse showed the graphic below by [Swami Chandrasekaran](http://nirvacana.com/thoughts/becoming-a-data-scientist/) to demonstrate the point that it would take a lifetime (or more) to master all the tools required to qualify for every job listing.\n",
    "\n",
    "<img src=\"./assets/RoadToDataScientist1.png\" alt=\"data scientist roadmap\" style=\"width: 50em;\"/>\n",
    "\n",
    "Rather than learn everything, we should learn the tools that have the greatest probability of ending up on the \"requirements\" list of a job posting. We can go to a website like Indeed and collect the keywords commonly used in data science postings. Then we can plot the keyword versus its frequency, as a function of the city in which one would like to work. \n",
    "\n",
    "Jesse developed some nice code in Python to:\n",
    "* Construct a URL to the search results for job postings matching a given city and state (or nationwide, if none are specified)\n",
    "* Extract and tally keywords from data science job postings listed in the search results\n",
    "\n",
    "Below were the results for NYC back in 2015, when he wrote this code (credit to Jesse for the graphic).\n",
    "\n",
    "<img src=\"./assets/proj6_nb_22_1.png\" alt=\"data scientist top keywords nyc\" style=\"width: 35em;\"/>\n",
    "\n",
    "---\n",
    "\n",
    "I decided to apply a similar analysis to [Monster.com](https://www.monster.com/), another job listings board. I am curious as to how similar the results are to Indeed. Of course, it's been four years since Jesse's original analysis, so there more variables in play than the change in platform.\n",
    "\n",
    "## URL Formatting\n",
    "\n",
    "The URL format for data science jobs in NYC is quite simple. For the first page of results:\n",
    "\n",
    "`https://www.monster.com/jobs/search/?q=data-scientist&where=New-York__2C-NY`\n",
    "\n",
    "And part of the results are shown below:\n",
    "\n",
    "<img src=\"./assets/screenshot.png\" alt=\"data scientist top keywords nyc\" style=\"width: 35em;\"/>"
   ]
  },
  {
   "cell_type": "markdown",
   "metadata": {},
   "source": [
    "One must click the \"Load more jobs\" button to load more results onto the page. When clicking the button for the first time, the link displayed in the browser barchanges in the following way:\n",
    "\n",
    "`...New-York__2C-NY&stpage=1&page=2`\n",
    "\n",
    "These query parameters set the starting page and ending page of the results displayed. So if the final `&page` argument is set to 3, there will be three pages of results. If one chooses a page too far ahead, an \"Error 404\" page is returned.\n",
    "\n",
    "From trial and error, I found that setting `page=10` yields all the relevant results in a single page. The `Load more jobs` button no longer appears once you get to 10 pages. This typically yields about 250 search results, even though it says \"1335 Jobs Found\" on the page. We will work with whatever results come up on the first 10 pages.\n",
    " \n",
    "## Search Results and Job Descriptions\n",
    "\n",
    "We will use the `requests` package to retrieve the HTML and `BeautifulSoup` to parse it."
   ]
  },
  {
   "cell_type": "code",
   "execution_count": 31,
   "metadata": {},
   "outputs": [],
   "source": [
    "import requests\n",
    "from bs4 import BeautifulSoup\n",
    "\n",
    "first_url = 'https://www.monster.com/jobs/search/?q=data-scientist&where=New-York__2C-NY'\n",
    "\n",
    "response = requests.get(first_url)\n",
    "soup = BeautifulSoup(response.text, 'html.parser')"
   ]
  },
  {
   "cell_type": "markdown",
   "metadata": {},
   "source": [
    "In the HTML, there are sections with the data attribute `data-jobid`, which correspond to the IDs of the job listings. These are also used in constructing the URL to access the listing page. We can write a function that grabs the IDs."
   ]
  },
  {
   "cell_type": "code",
   "execution_count": 32,
   "metadata": {},
   "outputs": [],
   "source": [
    "all_listings = soup.find_all('section', attrs={'data-jobid': True})\n",
    "ids = [item['data-jobid'] for item in all_listings]"
   ]
  },
  {
   "cell_type": "markdown",
   "metadata": {},
   "source": [
    "We can also obtain the job title, company name, and city/state combo from the HTML:"
   ]
  },
  {
   "cell_type": "code",
   "execution_count": 33,
   "metadata": {},
   "outputs": [
    {
     "name": "stdout",
     "output_type": "stream",
     "text": [
      "Senior Data Scientist - Corporate Training & Passion Projects!\n",
      "CyberCoders\n",
      "New York City, NY\n"
     ]
    }
   ],
   "source": [
    "loc_strings = list()\n",
    "for x in all_listings:\n",
    "    loc_string = x.find('div', attrs={'class': 'location'}).find('span', attrs={'class': 'name'}).text.strip()\n",
    "    \n",
    "    if ',' in loc_string:\n",
    "        city, state = [a.strip() for a in loc_string.split(',')]\n",
    "        state = state[:2]  # two-letter state format\n",
    "        loc_strings.append(', '.join([city, state]))\n",
    "    else:\n",
    "        loc_strings.append('')\n",
    "    \n",
    "companies = [x.find('div', attrs={'class': 'company'}).find('span', attrs={'class': 'name'}).text.strip()\n",
    "             for x in all_listings]\n",
    "\n",
    "job_titles = [x.find('h2', attrs={'class': 'title'}).find('a', href=True).string.strip() for x in all_listings]\n",
    "\n",
    "print(job_titles[0])\n",
    "print(companies[0])\n",
    "print(loc_strings[0])"
   ]
  },
  {
   "cell_type": "markdown",
   "metadata": {},
   "source": [
    "### No Need for Web Browser Automation...\n",
    "\n",
    "If we click on the job listings directly from the links on the left-hand sidebar, the descriptions are loaded **dynamically** into the right-hand column, which means that the DOM is modified via JavaScript. But `requests` only loads the unmodified page source, so it will not pick up on these changes. We could use [Selenium](https://www.seleniumhq.org/), which allows one to automate a web browser and parse the DOM as it changes. The returned HTML would reflect what we see after the job listing fields have been populated. To reduce overhead, one could use a [**headless**](https://intoli.com/blog/running-selenium-with-headless-chrome/) version of Chrome, which allows us to use the browser in the background without loading any browser windows.\n",
    "\n",
    "But we would like to avoid this if it is not absolutely necessary, as one must spend extra time waiting for page elements to load. It can also be quite resource-intensive. Luckily, we do not need to do this. Within the page source, each result comes with another URL that leads to a static job description page:"
   ]
  },
  {
   "cell_type": "code",
   "execution_count": 34,
   "metadata": {},
   "outputs": [
    {
     "data": {
      "text/plain": [
       "'https://job-openings.monster.com/senior-data-scientist-corporate-training-passion-projects-new-york-city-ny-us-cybercoders/208243552'"
      ]
     },
     "execution_count": 34,
     "metadata": {},
     "output_type": "execute_result"
    }
   ],
   "source": [
    "new_urls = [x.find('h2', attrs={'class': 'title'}).find('a', href=True)['href'] for x in all_listings]\n",
    "new_urls[0]"
   ]
  },
  {
   "cell_type": "markdown",
   "metadata": {},
   "source": [
    "So we can extract the description from this URL:"
   ]
  },
  {
   "cell_type": "code",
   "execution_count": 35,
   "metadata": {},
   "outputs": [],
   "source": [
    "job_url = new_urls[0]\n",
    "response = requests.get(job_url)\n",
    "soup = BeautifulSoup(response.text, 'html.parser')"
   ]
  },
  {
   "cell_type": "code",
   "execution_count": 36,
   "metadata": {},
   "outputs": [
    {
     "name": "stdout",
     "output_type": "stream",
     "text": [
      "Location: Work remote, though you must live near a major airport.  Up to 25% travel.  Skills: 3+ years industry data science, strong Python We are a Data Science education company with customers across the globe.  We offer training to corporations from start ups to Fortune 500s and everything in between. We are passionate about Data Science and sharing skills through education and are looking for a Data Scientist who feels the same! Top Reasons to Work with Us - Work with like minded people who are super passionate about data science and education - This role provides a unique mix of teaching, business projects and passion projects - We are a startup company owned by a global giant so you get the best of both worlds - that startup vibe but with security. - Competitive annual salary and full benefits. - You should ideally live in the SF bay or New York, however you can work REMOTE! (With 25% travel). What You Will Be Doing As our Corporate Senior Data Scientist your role will be as foll...\n"
     ]
    }
   ],
   "source": [
    "job_body = soup.find('span', attrs={'id': 'TrackingJobBody'})\n",
    "\n",
    "desc = job_body.get_text(separator=' ')  # add whitespace between HTML tags\n",
    "\n",
    "print(desc[:1000] + '...')"
   ]
  },
  {
   "cell_type": "markdown",
   "metadata": {},
   "source": [
    "We don't care how organized the paragraphs are. We just want to count the relevant keywords in this block of text."
   ]
  },
  {
   "cell_type": "markdown",
   "metadata": {},
   "source": [
    "## Keyword Parsing\n",
    "\n",
    "<img src=\"./assets/wework_application.png\" alt=\"data scientist top keywords nyc\" style=\"width: 35em;\"/>\n",
    "\n",
    "By the time you see this tutorial, the sample job description is likely to have changed. I will load the first result that popped up when I did my search - a job posting for a senior data scientist at WeWork:"
   ]
  },
  {
   "cell_type": "code",
   "execution_count": 37,
   "metadata": {},
   "outputs": [
    {
     "name": "stdout",
     "output_type": "stream",
     "text": [
      "WeWork is the platform for creators, providing hundreds of thousands of members across the globe space, community, and services that enable them to do what they love and craft their life's work. Our mission is to build a world where people work to make a life, not just a living, and our own team members are central to that goal.  WeWork is looking for creative, technically minded Data Scientists who are motivated to solve some of the world’s most challenging problems. Data is at the heart of our business at WeWork and as a Data Scientist, you will leverage this resource to evaluate and provide insights into both our physical, and digital products & features. In collaboration with a multidisciplinary team of engineers and analysts, you will apply diligent statistical methods, robust code, and transparent scientific rigor to creatively develop models that will be embedded in software products that deliver data-driven insights seamlessly to end users where they need it, and when they need...\n"
     ]
    }
   ],
   "source": [
    "with open('./data/wework_description.txt', 'r') as f:\n",
    "    job_desc = f.read()\n",
    "    \n",
    "print(job_desc[:1000] + '...')"
   ]
  },
  {
   "cell_type": "markdown",
   "metadata": {},
   "source": [
    "Now we would like to come up with a list of terms we can scan the text for. After a cursory scan of some listings on Monster, and looking at the list created by Jesse in his blog post, I came up with the following:"
   ]
  },
  {
   "cell_type": "code",
   "execution_count": 38,
   "metadata": {},
   "outputs": [
    {
     "name": "stdout",
     "output_type": "stream",
     "text": [
      "['Python', 'R', 'Spark', 'Hadoop', 'SQL', 'NoSQL', 'Matlab', 'Linux', 'Excel', 'Azure', 'AWS', 'H2O', 'Java', 'C', 'C++', 'C#', 'Scala', 'Tableau', 'MongoDB', 'Postgres', 'PyTorch', 'TensorFlow', 'SAS', 'Octave', 'Julia', 'Shell Script', 'JavaScript', 'Haskell', 'Hive', 'PowerBI', 'Cloudera', 'D3', 'SPSS', 'Perl']\n"
     ]
    }
   ],
   "source": [
    "from helpers import DATA_SCI_KEYWORDS\n",
    "\n",
    "print(DATA_SCI_KEYWORDS)"
   ]
  },
  {
   "cell_type": "markdown",
   "metadata": {},
   "source": [
    "We will create a `Counter` from the `collections` library and tally the occurrences of each of these keywords within the text. But first, we need to break the description down into a list of words. Below is a sample of code, partially lifted from Jesse's post, that does so:"
   ]
  },
  {
   "cell_type": "code",
   "execution_count": 39,
   "metadata": {},
   "outputs": [],
   "source": [
    "import re\n",
    "from nltk.corpus import stopwords\n",
    "\n",
    "delete_matching = \"[^a-zA-Z.+3]\"\n",
    "\n",
    "lines = (line.strip() for line in job_desc.splitlines())\n",
    "\n",
    "# break multi-headlines into a line each\n",
    "chunks = (phrase.strip() for line in lines for phrase in line.split(\"  \"))\n",
    "\n",
    "# Get rid of all blank lines and ends of line\n",
    "text = ''.join(chunk + ' ' for chunk in chunks if chunk).encode('utf-8')\n",
    "\n",
    "# Now clean out all of the unicode junk\n",
    "text = text.decode('unicode_escape')\n",
    "\n",
    "# Get rid of any terms that aren't words\n",
    "text = re.sub(delete_matching, \" \", text)\n",
    "\n",
    "text = text.lower().split()  # Go to lower case and split them apart\n",
    "\n",
    "stop_words = set(stopwords.words(\"english\"))\n",
    "\n",
    "words = list()\n",
    "for w in text:\n",
    "    if w not in [x.lower() for x in DATA_SCI_KEYWORDS]:\n",
    "        w = w.replace('.', '')\n",
    "    if w not in stop_words and len(w) > 0:\n",
    "        words.append(w)\n",
    "\n",
    "# Just get the set of these.\n",
    "all_words = list(set(words))"
   ]
  },
  {
   "cell_type": "markdown",
   "metadata": {},
   "source": [
    "Now, how many of these words are in our list of keywords? Let's get the frequencies. We will insert them into a Pandas dataframe."
   ]
  },
  {
   "cell_type": "code",
   "execution_count": 40,
   "metadata": {},
   "outputs": [
    {
     "data": {
      "text/html": [
       "<div>\n",
       "<style scoped>\n",
       "    .dataframe tbody tr th:only-of-type {\n",
       "        vertical-align: middle;\n",
       "    }\n",
       "\n",
       "    .dataframe tbody tr th {\n",
       "        vertical-align: top;\n",
       "    }\n",
       "\n",
       "    .dataframe thead th {\n",
       "        text-align: right;\n",
       "    }\n",
       "</style>\n",
       "<table border=\"1\" class=\"dataframe\">\n",
       "  <thead>\n",
       "    <tr style=\"text-align: right;\">\n",
       "      <th></th>\n",
       "      <th>Keyword</th>\n",
       "      <th>Frequency</th>\n",
       "    </tr>\n",
       "  </thead>\n",
       "  <tbody>\n",
       "    <tr>\n",
       "      <th>0</th>\n",
       "      <td>Python</td>\n",
       "      <td>1</td>\n",
       "    </tr>\n",
       "    <tr>\n",
       "      <th>1</th>\n",
       "      <td>Azure</td>\n",
       "      <td>1</td>\n",
       "    </tr>\n",
       "    <tr>\n",
       "      <th>2</th>\n",
       "      <td>SAS</td>\n",
       "      <td>1</td>\n",
       "    </tr>\n",
       "    <tr>\n",
       "      <th>3</th>\n",
       "      <td>R</td>\n",
       "      <td>1</td>\n",
       "    </tr>\n",
       "    <tr>\n",
       "      <th>4</th>\n",
       "      <td>C++</td>\n",
       "      <td>1</td>\n",
       "    </tr>\n",
       "    <tr>\n",
       "      <th>5</th>\n",
       "      <td>C</td>\n",
       "      <td>1</td>\n",
       "    </tr>\n",
       "    <tr>\n",
       "      <th>6</th>\n",
       "      <td>Java</td>\n",
       "      <td>1</td>\n",
       "    </tr>\n",
       "    <tr>\n",
       "      <th>7</th>\n",
       "      <td>TensorFlow</td>\n",
       "      <td>1</td>\n",
       "    </tr>\n",
       "    <tr>\n",
       "      <th>8</th>\n",
       "      <td>PyTorch</td>\n",
       "      <td>1</td>\n",
       "    </tr>\n",
       "    <tr>\n",
       "      <th>9</th>\n",
       "      <td>Matlab</td>\n",
       "      <td>1</td>\n",
       "    </tr>\n",
       "    <tr>\n",
       "      <th>10</th>\n",
       "      <td>SQL</td>\n",
       "      <td>1</td>\n",
       "    </tr>\n",
       "    <tr>\n",
       "      <th>11</th>\n",
       "      <td>Hive</td>\n",
       "      <td>0</td>\n",
       "    </tr>\n",
       "  </tbody>\n",
       "</table>\n",
       "</div>"
      ],
      "text/plain": [
       "       Keyword  Frequency\n",
       "0       Python          1\n",
       "1        Azure          1\n",
       "2          SAS          1\n",
       "3            R          1\n",
       "4          C++          1\n",
       "5            C          1\n",
       "6         Java          1\n",
       "7   TensorFlow          1\n",
       "8      PyTorch          1\n",
       "9       Matlab          1\n",
       "10         SQL          1\n",
       "11        Hive          0"
      ]
     },
     "execution_count": 40,
     "metadata": {},
     "output_type": "execute_result"
    }
   ],
   "source": [
    "from collections import Counter\n",
    "import pandas as pd\n",
    "\n",
    "freqs = Counter(all_words)\n",
    "\n",
    "out_dict = dict([(x, freqs[x.lower()]) for x in DATA_SCI_KEYWORDS])\n",
    "df = pd.DataFrame.from_dict(out_dict, orient='index', columns=['Frequency']).reset_index()\n",
    "df = df.rename(columns={'index': 'Keyword'}).sort_values(by='Frequency', ascending=False).reset_index(drop=True)\n",
    "df.head(12)"
   ]
  },
  {
   "cell_type": "markdown",
   "metadata": {},
   "source": [
    "So this one job listing mentions 11 keywords! For a list of search results, we will do the same thing, while increasing the count with every listing we encounter."
   ]
  },
  {
   "cell_type": "markdown",
   "metadata": {},
   "source": [
    "## Full Implementation + Results\n",
    "\n",
    "I ended up taking an object-oriented approach to this problem. I created classes that represented different components of the process:\n",
    "\n",
    "* `MonsterLocation`, which contains a city/state combination along with an optional tuple of alternate nearby cities/states that are considered \"equal\" to this location in the search results.\n",
    "* `MonsterListing`, representing an individual listing returned from the search. Each listing contains a job ID, the company, the `MonsterLocation` (without \n",
    "* `MonsterSearch`, which contains the search parameters, along with a dictionary of returned `MonsterLocation` objects indexed by their unique ID\n",
    "\n",
    "This approach allows us to construct search queries and grab information from listings in a succinct way.\n",
    "\n",
    "\n",
    "### Fetching a single listing\n",
    "\n",
    "Below we grab a single listing from Brooklyn using the ID and print the info, plus a snippet of the description."
   ]
  },
  {
   "cell_type": "code",
   "execution_count": 41,
   "metadata": {},
   "outputs": [
    {
     "name": "stdout",
     "output_type": "stream",
     "text": [
      "Job Title: Business Development Manager\n",
      "Company: Jobot\n",
      "Location: Brooklyn, NY\n",
      "ID: 208183191\n",
      "\n",
      "\n",
      " Fast growing biotech startup looking for a Business Development Manager Read Below and See If This Position Is A Fit! If so, Easy Apply now by clicking the \"Apply\" button and sending us your resume. If you are a fit, our Jobot Pro, Alec Pedersen, will get back to you with more details! Market Development Manager - Fast Growing Biotechnology startup A bit about us:   Based in Brooklyn, NY we are a well-funded, fast growing Biotechnology startup using Data Science & Artificial Intelligence to revolutionize the healthcare industry! Our next generation data capture tools give medical professionals the information they need to treat patients with increased efficiency, precision, and at lower costs. We turned the corner on becoming profitable last year and need to scale our business development team. If you are a Business Development Professional with Healthcare/Biotech/Pharmaceutical Industry experience, please read on!    What can we do for you?   Competitive Base Salary + Bonuses Extrem...\n",
      "\n",
      "True\n"
     ]
    }
   ],
   "source": [
    "from monster import MonsterListing, MonsterLocation\n",
    "\n",
    "city = \"New York\"\n",
    "state = \"NY\"\n",
    "alternates = (\"Brooklyn, NY\",)  # \"Brooklyn, NY\" is near \"New York, NY\", so include it as an alternate\n",
    "location = MonsterLocation(city, state, alternates=alternates)\n",
    "\n",
    "# We will pick a listing from Brooklyn, NY\n",
    "job_id = '208183191'\n",
    "\n",
    "listing = MonsterListing.from_id(job_id)  # get listing details from search page (excluding description)\n",
    "listing.fetch_description()  # get description from static webpage; separate step\n",
    "\n",
    "# \"Brooklyn, NY\" is considered equal to \"New York, NY\" because we listed it as \n",
    "# an alternate (nearby) city\n",
    "print(listing.__str__() + '\\n')\n",
    "print(listing.get_excerpt() + '\\n')\n",
    "print(location == listing.location)"
   ]
  },
  {
   "cell_type": "markdown",
   "metadata": {},
   "source": [
    "### Fetching search results\n",
    "\n",
    "Let's load the first page of search results. We'll search for listings on the term \"Data Scientist\", and we'll allow any listings that include this in the title - along with \"Data Science\" or \"Data Engineer\". We won't load the descriptions, because this takes a long time; we need to individually load each static listing page and extract the description."
   ]
  },
  {
   "cell_type": "code",
   "execution_count": 42,
   "metadata": {},
   "outputs": [
    {
     "name": "stdout",
     "output_type": "stream",
     "text": [
      "Job Title: Senior Data Scientist - Corporate Training & Passion Projects!\n",
      "Company: CyberCoders\n",
      "Location: New York City, NY\n",
      "ID: 208243552\n",
      "\n",
      "\n",
      " Location: Work remote, though you must live near a major airport.  Up to 25% travel.  Skills: 3+ years industry data science, strong Python We are a Data Science education company with customers across the globe.  We offer training to corporations from start ups to Fortune 500s and everything in between. We are passionate about Data Science and sharing skills through education and are looking for a Data Scientist who feels the same! Top Reasons to Work with Us - Work with like minded people who are super passionate about data science and education - This role provides a unique mix of teaching, business projects and passion projects - We are a startup company owned by a global giant so you get the best of both worlds - that startup vibe but with security. - Competitive annual salary and full benefits. - You should ideally live in the SF bay or New York, however you can work REMOTE! (With 25% travel). What You Will Be Doing As our Corporate Senior Data Scientist your role will be as fo...\n",
      "\n"
     ]
    }
   ],
   "source": [
    "from monster import MonsterSearch\n",
    "\n",
    "query = \"Data Scientist\"\n",
    "page_limit = 1\n",
    "alternates = (\"Brooklyn, NY\", \"Jersey City, NJ\", \"Hoboken, NJ\", \"Secaucus, NJ\", \"Newark, NJ\", \"Manhattan, NY\",\n",
    "              \"New York City, NY\")\n",
    "location = MonsterLocation.from_string(\"New York, NY\", alternates=alternates)\n",
    "extra_titles = (\"Data Science\", \"Data Engineer\")  # extra possible phrases in title, other than \"Data Scientist\"\n",
    "\n",
    "# create search and fetch first page\n",
    "search = MonsterSearch(location, query, extra_titles=extra_titles)\n",
    "search.fetch_listings(limit=page_limit)  # get all listings (without descriptions...)\n",
    "\n",
    "# get first listing + description (job ids stored in order they were retrieved)\n",
    "listing = search.results[search.job_ids[0]]\n",
    "listing.fetch_description()\n",
    "\n",
    "print(listing.__str__() + '\\n')\n",
    "print(listing.get_excerpt() + '\\n')"
   ]
  },
  {
   "cell_type": "markdown",
   "metadata": {},
   "source": [
    "### Counts for a search: NYC Data Scientist jobs\n",
    "\n",
    "Below we'll load the results from a previous search for data scientist positions in NYC, with the intention of getting the counts for the keywords in `DATA_SCI_KEYWORDS`. I conducted this search on May 19th, 2019, and I obtained all of the descriptions."
   ]
  },
  {
   "cell_type": "code",
   "execution_count": 43,
   "metadata": {},
   "outputs": [
    {
     "name": "stdout",
     "output_type": "stream",
     "text": [
      "Search Query: Data Scientist\n",
      "Location: New York, NY\n",
      "Number of Listings: 179\n"
     ]
    }
   ],
   "source": [
    "import json\n",
    "\n",
    "filename = './data/data_scientist_nyc_search.json'\n",
    "\n",
    "with open(filename, 'r') as f:\n",
    "    search = MonsterSearch.json_deserialize(in_dict=json.load(f))\n",
    "    \n",
    "print(search)"
   ]
  },
  {
   "cell_type": "markdown",
   "metadata": {},
   "source": [
    "Let's get the counts for all the keywords in `DATA_SCI_KEYWORDS` within the 179 listings."
   ]
  },
  {
   "cell_type": "code",
   "execution_count": 44,
   "metadata": {},
   "outputs": [
    {
     "data": {
      "image/png": "[encoded data removed]",
      "text/plain": [
       "<Figure size 432x288 with 1 Axes>"
      ]
     },
     "metadata": {
      "needs_background": "light"
     },
     "output_type": "display_data"
    }
   ],
   "source": [
    "from monster import MonsterTextParser\n",
    "import matplotlib.pyplot as plt\n",
    "%matplotlib inline\n",
    "\n",
    "filename = './data/data_scientist_nyc_search.json'\n",
    "\n",
    "with open(filename, 'r') as f:\n",
    "    search = MonsterSearch.json_deserialize(in_dict=json.load(f))\n",
    "\n",
    "# get individual keyword counts as percentage of ads mentioning the keyword\n",
    "tally = MonsterTextParser(DATA_SCI_KEYWORDS).count_words(search, as_percentage=True)\n",
    "\n",
    "top_10 = tally.iloc[:10]\n",
    "\n",
    "fig, ax = plt.subplots(1, 1)\n",
    "top_10.plot.bar(x='Keyword', rot=30, ax=ax, legend=False)\n",
    "ax.set_ylabel('% of Ads Mentioning Keyword')\n",
    "ax.set_title('Keyword Popularity in NYC');"
   ]
  },
  {
   "cell_type": "markdown",
   "metadata": {},
   "source": [
    "So we can see here that Python, R, and SQL are the holy triumvirate of the data scientist's toolkit - as expected! These were also the top three languages in NYC when Jesse scraped Indeed back in 2015, but R took the top spot back then. Jesse also had more search results (300, versus the 179 I'm using here), so it's possible the distribution would change if I acquired more data. But it's good to know that the results aren't too far off from what is expected!"
   ]
  }
 ],
 "metadata": {
  "@webio": {
   "lastCommId": null,
   "lastKernelId": null
  },
  "kernelspec": {
   "display_name": "Python 3",
   "language": "python",
   "name": "python3"
  },
  "language_info": {
   "codemirror_mode": {
    "name": "ipython",
    "version": 3
   },
   "file_extension": ".py",
   "mimetype": "text/x-python",
   "name": "python",
   "nbconvert_exporter": "python",
   "pygments_lexer": "ipython3",
   "version": "3.7.3"
  }
 },
 "nbformat": 4,
 "nbformat_minor": 2
}
